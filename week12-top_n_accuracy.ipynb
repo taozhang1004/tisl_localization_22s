{
 "cells": [
  {
   "cell_type": "markdown",
   "id": "96881696",
   "metadata": {},
   "source": [
    "## Calculating top-1 and top-5 score"
   ]
  },
  {
   "cell_type": "code",
   "execution_count": 1,
   "id": "edd26989",
   "metadata": {},
   "outputs": [],
   "source": [
    "from top_n import get_top_n_score"
   ]
  },
  {
   "cell_type": "markdown",
   "id": "6c0c4c81",
   "metadata": {},
   "source": [
    "#### Top-1 and Top-5 score for graph (vlad embeddings (4 to 6) and objects (4 to 6)):"
   ]
  },
  {
   "cell_type": "code",
   "execution_count": 2,
   "id": "f91b98b0",
   "metadata": {},
   "outputs": [
    {
     "name": "stdout",
     "output_type": "stream",
     "text": [
      "Top-1 score:  0.48333333333333334\n",
      "Top-5 score:  0.7729166666666667\n"
     ]
    }
   ],
   "source": [
    "num_emb = 5\n",
    "top1_score_test1, top5_score_test1 = get_top_n_score(num_emb, \"test_sets/test_set_graph_vlad_object_embeddings.txt\")\n",
    "\n",
    "print('Top-1 score: ', top1_score_test1)\n",
    "print('Top-5 score: ', top5_score_test1)"
   ]
  },
  {
   "cell_type": "markdown",
   "id": "50c7847d",
   "metadata": {},
   "source": [
    "#### Top-1 and Top-5 score for only vlad embeddings in graph (4 to 6):"
   ]
  },
  {
   "cell_type": "code",
   "execution_count": 3,
   "id": "0fdac671",
   "metadata": {},
   "outputs": [
    {
     "name": "stdout",
     "output_type": "stream",
     "text": [
      "Top-1 score:  0.3854166666666667\n",
      "Top-5 score:  0.68125\n"
     ]
    }
   ],
   "source": [
    "top1_score_test2, top5_score_test2 = get_top_n_score(num_emb, \"test_sets/test_set_vlad_embeddings_only_in_graph_4_to_6.txt\")\n",
    "print('Top-1 score: ', top1_score_test2)\n",
    "print('Top-5 score: ', top5_score_test2)"
   ]
  },
  {
   "cell_type": "markdown",
   "id": "c5ef0651",
   "metadata": {},
   "source": [
    "#### Top-1 and Top-5 score for only vlad embeddings in graph (8 to 12):"
   ]
  },
  {
   "cell_type": "code",
   "execution_count": 4,
   "id": "6797a7d9",
   "metadata": {},
   "outputs": [
    {
     "name": "stdout",
     "output_type": "stream",
     "text": [
      "Top-1 score:  0.4375\n",
      "Top-5 score:  0.4375\n"
     ]
    }
   ],
   "source": [
    "top1_score_test3, top5_score_test3 = get_top_n_score(num_emb, \"test_sets/test_set_vlad_embeddings_only_in_graph_8_to_12.txt\")\n",
    "print('Top-1 score: ', top1_score_test3)\n",
    "print('Top-5 score: ', top5_score_test3)"
   ]
  },
  {
   "cell_type": "markdown",
   "id": "6180cfc3",
   "metadata": {},
   "source": [
    "#### Top-1 and Top-5 score for only object embeddings in graph (4 to 6):"
   ]
  },
  {
   "cell_type": "code",
   "execution_count": 5,
   "id": "5f7c9431",
   "metadata": {},
   "outputs": [
    {
     "name": "stdout",
     "output_type": "stream",
     "text": [
      "Top-1 score:  0.3770833333333333\n",
      "Top-5 score:  0.68125\n"
     ]
    }
   ],
   "source": [
    "top1_score_test4, top5_score_test4 = get_top_n_score(num_emb, \"test_sets/test_set_objects_only_in_graph_4_to_6.txt\")\n",
    "print('Top-1 score: ', top1_score_test4)\n",
    "print('Top-5 score: ', top5_score_test4)"
   ]
  },
  {
   "cell_type": "markdown",
   "id": "10628a69",
   "metadata": {},
   "source": [
    "#### Top-1 and Top-5 score for only object embeddings in graph (8 to 12):"
   ]
  },
  {
   "cell_type": "code",
   "execution_count": 6,
   "id": "133c76b2",
   "metadata": {},
   "outputs": [
    {
     "name": "stdout",
     "output_type": "stream",
     "text": [
      "Top-1 score:  0.575\n",
      "Top-5 score:  0.7645833333333333\n"
     ]
    }
   ],
   "source": [
    "top1_score_test5, top5_score_test5 = get_top_n_score(num_emb, \"test_sets/test_set_objects_only_in_graph_8_to_12.txt\")\n",
    "print('Top-1 score: ', top1_score_test5)\n",
    "print('Top-5 score: ', top5_score_test5)"
   ]
  },
  {
   "cell_type": "markdown",
   "id": "8190653a",
   "metadata": {},
   "source": [
    "#### Top-1 and Top-5 Score for graph (all vlad embeddings, all objects, from 4 to 6): "
   ]
  },
  {
   "cell_type": "code",
   "execution_count": 7,
   "id": "c7bee494",
   "metadata": {},
   "outputs": [
    {
     "name": "stdout",
     "output_type": "stream",
     "text": [
      "Top-1 score:  0.5\n",
      "Top-5 score:  0.5\n"
     ]
    }
   ],
   "source": [
    "top1_score_test6, top5_score_test6 = get_top_n_score(num_emb, \"test_sets/test_set_all_objects_all_vlad_embeddings_4_to_6.txt\")\n",
    "print('Top-1 score: ', top1_score_test6)\n",
    "print('Top-5 score: ', top5_score_test6)                    "
   ]
  },
  {
   "cell_type": "markdown",
   "id": "c902f82c",
   "metadata": {},
   "source": [
    "#### Top-1 and Top-5 Score for graph (all vlad embeddings, all objects, from 8 to 12): "
   ]
  },
  {
   "cell_type": "code",
   "execution_count": 8,
   "id": "c0cd08e5",
   "metadata": {},
   "outputs": [
    {
     "name": "stdout",
     "output_type": "stream",
     "text": [
      "Top-1 score:  0.5395833333333333\n",
      "Top-5 score:  0.7791666666666667\n"
     ]
    }
   ],
   "source": [
    "top1_score_test7, top5_score_test7 = get_top_n_score(num_emb, \"test_sets/test_set_all_objects_all_vlad_embeddings_8_to_12.txt\")\n",
    "print('Top-1 score: ', top1_score_test7)\n",
    "print('Top-5 score: ', top5_score_test7)"
   ]
  },
  {
   "cell_type": "markdown",
   "id": "c11c7965",
   "metadata": {},
   "source": [
    "#### Top-1 and Top-5 Score for Vlad embeddings (5 vlad embedding for each scan)"
   ]
  },
  {
   "cell_type": "code",
   "execution_count": 9,
   "id": "5af11202",
   "metadata": {},
   "outputs": [
    {
     "name": "stdout",
     "output_type": "stream",
     "text": [
      "Top-1 score:  0.388659793814433\n",
      "Top-5 score:  0.6484536082474227\n"
     ]
    }
   ],
   "source": [
    "num_emb = 5\n",
    "top1_score_test11, top5_score_test11 = get_top_n_score(num_emb, \"test_sets/test_set_vlad_embeddings_5_emb.txt\")\n",
    "print('Top-1 score: ', top1_score_test11)\n",
    "print('Top-5 score: ', top5_score_test11)"
   ]
  },
  {
   "cell_type": "markdown",
   "id": "6210c740",
   "metadata": {},
   "source": [
    "#### Top-1 and Top-5 Score for Vlad embeddings (10 vlad embedding for each scan)"
   ]
  },
  {
   "cell_type": "code",
   "execution_count": 10,
   "id": "daf57336",
   "metadata": {},
   "outputs": [
    {
     "name": "stdout",
     "output_type": "stream",
     "text": [
      "Top-1 score:  0.2948453608247423\n",
      "Top-5 score:  0.5494845360824743\n"
     ]
    }
   ],
   "source": [
    "num_emb = 10\n",
    "top1_score_test12, top5_score_test12 = get_top_n_score(num_emb, \"test_sets/test_set_vlad_embeddings_10_emb.txt\")\n",
    "print('Top-1 score: ', top1_score_test12)\n",
    "print('Top-5 score: ', top5_score_test12)"
   ]
  },
  {
   "cell_type": "markdown",
   "id": "26f8539f",
   "metadata": {},
   "source": [
    "#### Top-1 and Top-5 Score for Vlad embeddings (15 vlad embedding for each scan)"
   ]
  },
  {
   "cell_type": "code",
   "execution_count": 11,
   "id": "76e3937c",
   "metadata": {},
   "outputs": [
    {
     "name": "stdout",
     "output_type": "stream",
     "text": [
      "Top-1 score:  0.2900343642611684\n",
      "Top-5 score:  0.5298969072164949\n"
     ]
    }
   ],
   "source": [
    "num_emb = 15\n",
    "top1_score_test13, top5_score_test13 = get_top_n_score(num_emb, \"test_sets/test_set_vlad_embeddings_15_emb.txt\")\n",
    "print('Top-1 score: ', top1_score_test13)\n",
    "print('Top-5 score: ', top5_score_test13)"
   ]
  },
  {
   "cell_type": "markdown",
   "id": "77f0554c",
   "metadata": {},
   "source": [
    "#### Top-1 and Top-5 Score for Vlad embeddings (20 vlad embedding for each scan)"
   ]
  },
  {
   "cell_type": "code",
   "execution_count": 12,
   "id": "ec0af9d0",
   "metadata": {},
   "outputs": [
    {
     "name": "stdout",
     "output_type": "stream",
     "text": [
      "Top-1 score:  0.3479381443298969\n",
      "Top-5 score:  0.5814432989690722\n"
     ]
    }
   ],
   "source": [
    "num_emb = 20\n",
    "top1_score_test14, top5_score_test14 = get_top_n_score(num_emb,\"test_sets/test_set_vlad_embeddings_20_emb.txt\")\n",
    "print('Top-1 score: ', top1_score_test14)\n",
    "print('Top-5 score: ', top5_score_test14)"
   ]
  },
  {
   "cell_type": "markdown",
   "id": "a24ae912",
   "metadata": {},
   "source": [
    "#### Top-1 and Top-5 Score for Vlad embeddings (25 vlad embedding for each scan)"
   ]
  },
  {
   "cell_type": "code",
   "execution_count": 13,
   "id": "12aab24e",
   "metadata": {},
   "outputs": [
    {
     "name": "stdout",
     "output_type": "stream",
     "text": [
      "Top-1 score:  0.3558762886597938\n",
      "Top-5 score:  0.5950515463917526\n"
     ]
    }
   ],
   "source": [
    "num_emb = 25\n",
    "top1_score_test15, top5_score_test15 = get_top_n_score(num_emb, \"test_sets/test_set_vlad_embeddings_25_emb.txt\")\n",
    "print('Top-1 score: ', top1_score_test15)\n",
    "print('Top-5 score: ', top5_score_test15)"
   ]
  },
  {
   "cell_type": "markdown",
   "id": "792f4b43",
   "metadata": {},
   "source": [
    "#### Conclusion: We showed that graph embeddings represent much higher prediction score compared to vlad embeddings "
   ]
  }
 ],
 "metadata": {
  "celltoolbar": "无",
  "kernelspec": {
   "display_name": "Python 3 (ipykernel)",
   "language": "python",
   "name": "python3"
  },
  "language_info": {
   "codemirror_mode": {
    "name": "ipython",
    "version": 3
   },
   "file_extension": ".py",
   "mimetype": "text/x-python",
   "name": "python",
   "nbconvert_exporter": "python",
   "pygments_lexer": "ipython3",
   "version": "3.9.12"
  },
  "vscode": {
   "interpreter": {
    "hash": "916dbcbb3f70747c44a77c7bcd40155683ae19c65e1c03b4aa3499c5328201f1"
   }
  }
 },
 "nbformat": 4,
 "nbformat_minor": 5
}
