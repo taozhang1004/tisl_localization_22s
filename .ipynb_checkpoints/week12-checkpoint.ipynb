{
 "cells": [
  {
   "cell_type": "markdown",
   "id": "96881696",
   "metadata": {},
   "source": [
    "## Calculating top-1 and top-5 score"
   ]
  },
  {
   "cell_type": "code",
   "execution_count": 9,
   "id": "edd26989",
   "metadata": {},
   "outputs": [],
   "source": [
    "from top_n import get_top_n_score"
   ]
  },
  {
   "cell_type": "markdown",
   "id": "6c0c4c81",
   "metadata": {},
   "source": [
    "#### Top-1 and Top-5 score for graph: (vlad embeddings (3 to 5) and objects (4, 6))"
   ]
  },
  {
   "cell_type": "code",
   "execution_count": 10,
   "id": "f91b98b0",
   "metadata": {},
   "outputs": [
    {
     "name": "stdout",
     "output_type": "stream",
     "text": [
      "Top-1 score:  0.4791666666666667\n",
      "Top-5 score:  0.7770833333333333\n"
     ]
    }
   ],
   "source": [
    "top1_score_test1, top5_score_test1 = get_top_n_score(\"test_set.txt\")\n",
    "\n",
    "print('Top-1 score: ', top1_score_test1)\n",
    "print('Top-5 score: ', top5_score_test1)"
   ]
  },
  {
   "cell_type": "markdown",
   "id": "85501f9f",
   "metadata": {},
   "source": [
    "#### Top-1 and Top-5 score for vlad embeddings taken from scans"
   ]
  },
  {
   "cell_type": "code",
   "execution_count": 16,
   "id": "719e72e2",
   "metadata": {},
   "outputs": [
    {
     "name": "stdout",
     "output_type": "stream",
     "text": [
      "Top-1 score:  0.23505154639175257\n",
      "Top-5 score:  0.45979381443298967\n"
     ]
    }
   ],
   "source": [
    "top1_score_test2, top5_score_test2 = get_top_n_score(\"test_set_vlad_embeddings.txt\")\n",
    "print('Top-1 score: ', top1_score_test2)\n",
    "print('Top-5 score: ', top5_score_test2)"
   ]
  },
  {
   "cell_type": "markdown",
   "id": "e7868a3b",
   "metadata": {},
   "source": [
    "#### Top-1 and Top-5 score for graph: (vlad_embeddings(7 to 10))"
   ]
  },
  {
   "cell_type": "code",
   "execution_count": 18,
   "id": "2ac34635",
   "metadata": {},
   "outputs": [
    {
     "name": "stdout",
     "output_type": "stream",
     "text": [
      "Top-1 score:  0.48541666666666666\n",
      "Top-5 score:  0.7770833333333333\n"
     ]
    }
   ],
   "source": [
    "top1_score_test3, top5_score_test3 = get_top_n_score(\"test_set_vlad_embeddings_only_in_graph.txt\")\n",
    "print('Top-1 score: ', top1_score_test3)\n",
    "print('Top-5 score: ', top5_score_test3)"
   ]
  },
  {
   "cell_type": "code",
   "execution_count": null,
   "id": "d07da03d",
   "metadata": {},
   "outputs": [],
   "source": []
  }
 ],
 "metadata": {
  "celltoolbar": "无",
  "kernelspec": {
   "display_name": "Python 3 (ipykernel)",
   "language": "python",
   "name": "python3"
  },
  "language_info": {
   "codemirror_mode": {
    "name": "ipython",
    "version": 3
   },
   "file_extension": ".py",
   "mimetype": "text/x-python",
   "name": "python",
   "nbconvert_exporter": "python",
   "pygments_lexer": "ipython3",
   "version": "3.9.12"
  }
 },
 "nbformat": 4,
 "nbformat_minor": 5
}
