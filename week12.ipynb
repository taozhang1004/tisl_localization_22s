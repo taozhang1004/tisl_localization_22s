{
 "cells": [
  {
   "cell_type": "markdown",
   "id": "96881696",
   "metadata": {},
   "source": [
    "## Calculating top-1 and top-5 score"
   ]
  },
  {
   "cell_type": "code",
   "execution_count": 9,
   "id": "edd26989",
   "metadata": {},
   "outputs": [],
   "source": [
    "from top_n import get_top_n_score"
   ]
  },
  {
   "cell_type": "markdown",
   "id": "6c0c4c81",
   "metadata": {},
   "source": [
    "#### Top-1 and Top-5 score for graph: (vlad embeddings (3 to 5) and objects (4, 6))"
   ]
  },
  {
   "cell_type": "code",
   "execution_count": 20,
   "id": "f91b98b0",
   "metadata": {},
   "outputs": [
    {
     "name": "stdout",
     "output_type": "stream",
     "text": [
      "Top-1 score:  0.475\n",
      "Top-5 score:  0.7833333333333333\n"
     ]
    }
   ],
   "source": [
    "top1_score_test1, top5_score_test1 = get_top_n_score(\"test_set_graph_vlad_object_embeddings.txt\")\n",
    "\n",
    "print('Top-1 score: ', top1_score_test1)\n",
    "print('Top-5 score: ', top5_score_test1)"
   ]
  },
  {
   "cell_type": "markdown",
   "id": "726a45ab",
   "metadata": {},
   "source": [
    "#### Top-1 and Top-5 score for vlad embeddings taken from scans"
   ]
  },
  {
   "cell_type": "code",
   "execution_count": 29,
   "id": "719e72e2",
   "metadata": {},
   "outputs": [
    {
     "name": "stdout",
     "output_type": "stream",
     "text": [
      "Top-1 score:  0.23505154639175257\n",
      "Top-5 score:  0.45979381443298967\n"
     ]
    }
   ],
   "source": [
    "top1_score_test2, top5_score_test2 = get_top_n_score(\"test_set_vlad_embeddings.txt\")\n",
    "print('Top-1 score: ', top1_score_test2)\n",
    "print('Top-5 score: ', top5_score_test2)"
   ]
  },
  {
   "cell_type": "markdown",
   "id": "50c7847d",
   "metadata": {},
   "source": [
    "#### Top-1 and Top-5 score for graph: (vlad embeddings(7 to 10))"
   ]
  },
  {
   "cell_type": "code",
   "execution_count": 30,
   "id": "0fdac671",
   "metadata": {},
   "outputs": [
    {
     "name": "stdout",
     "output_type": "stream",
     "text": [
      "Top-1 score:  0.48541666666666666\n",
      "Top-5 score:  0.7770833333333333\n"
     ]
    }
   ],
   "source": [
    "top1_score_test3, top5_score_test3 = get_top_n_score(\"test_set_vlad_embeddings_only_in_graph.txt\")\n",
    "print('Top-1 score: ', top1_score_test3)\n",
    "print('Top-5 score: ', top5_score_test3)"
   ]
  },
  {
   "cell_type": "markdown",
   "id": "93776ab8",
   "metadata": {},
   "source": [
    "#### Top-1 and Top-5 score for graph: (objects (7 to 10))"
   ]
  },
  {
   "cell_type": "code",
   "execution_count": 31,
   "id": "b2a873af",
   "metadata": {},
   "outputs": [
    {
     "name": "stdout",
     "output_type": "stream",
     "text": [
      "Top-1 score:  0.4791666666666667\n",
      "Top-5 score:  0.74375\n"
     ]
    }
   ],
   "source": [
    "top1_score_test4, top5_score_test4 = get_top_n_score(\"test_set_objects_only.txt\")\n",
    "print('Top-1 score: ', top1_score_test4)\n",
    "print('Top-5 score: ', top5_score_test4)"
   ]
  },
  {
   "cell_type": "markdown",
   "id": "8190653a",
   "metadata": {},
   "source": [
    "#### Top-1 and Top-5 Score for graph (all vlad embeddings, all objects): "
   ]
  },
  {
   "cell_type": "code",
   "execution_count": 32,
   "id": "c7bee494",
   "metadata": {},
   "outputs": [
    {
     "name": "stdout",
     "output_type": "stream",
     "text": [
      "Top-1 score:  0.5104166666666666\n",
      "Top-5 score:  0.7729166666666667\n"
     ]
    }
   ],
   "source": [
    "top1_score_test5, top5_score_test5 = get_top_n_score(\"test_set_all_objects_all_vlad_embeddings.txt\")\n",
    "print('Top-1 score: ', top1_score_test5)\n",
    "print('Top-5 score: ', top5_score_test5)                    "
   ]
  },
  {
   "cell_type": "markdown",
   "id": "792f4b43",
   "metadata": {},
   "source": [
    "#### Conclusion: there is no significance difference between different strategies of objects and embeddings inclusions, therefore, we should work on other methods of graph connectivity. However, we showed that graph embeddings represent much higher prediction score compared to vlad embeddings (0.783 compared to 0.453 among top-n accuracy scores)"
   ]
  }
 ],
 "metadata": {
  "celltoolbar": "无",
  "kernelspec": {
   "display_name": "Python 3 (ipykernel)",
   "language": "python",
   "name": "python3"
  },
  "language_info": {
   "codemirror_mode": {
    "name": "ipython",
    "version": 3
   },
   "file_extension": ".py",
   "mimetype": "text/x-python",
   "name": "python",
   "nbconvert_exporter": "python",
   "pygments_lexer": "ipython3",
   "version": "3.9.12"
  }
 },
 "nbformat": 4,
 "nbformat_minor": 5
}
