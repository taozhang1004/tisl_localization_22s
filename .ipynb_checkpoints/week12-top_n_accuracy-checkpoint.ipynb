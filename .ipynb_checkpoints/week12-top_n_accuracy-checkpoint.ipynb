{
 "cells": [
  {
   "cell_type": "markdown",
   "id": "96881696",
   "metadata": {},
   "source": [
    "## Calculating top-1 and top-5 score"
   ]
  },
  {
   "cell_type": "code",
   "execution_count": 1,
   "id": "edd26989",
   "metadata": {},
   "outputs": [],
   "source": [
    "from top_n import get_top_n_score"
   ]
  },
  {
   "cell_type": "markdown",
   "id": "6c0c4c81",
   "metadata": {},
   "source": [
    "#### Top-1 and Top-5 score for graph (vlad embeddings (4 to 6) and objects (4 to 6)):"
   ]
  },
  {
   "cell_type": "code",
   "execution_count": 2,
   "id": "f91b98b0",
   "metadata": {},
   "outputs": [
    {
     "name": "stdout",
     "output_type": "stream",
     "text": [
      "Top-1 score:  0.48333333333333334\n",
      "Top-5 score:  0.7729166666666667\n"
     ]
    }
   ],
   "source": [
    "num_emb = 5\n",
    "top1_score_test1, top5_score_test1 = get_top_n_score(\"test_sets/test_set_graph_vlad_object_embeddings.txt\", num_emb)\n",
    "\n",
    "print('Top-1 score: ', top1_score_test1)\n",
    "print('Top-5 score: ', top5_score_test1)"
   ]
  },
  {
   "cell_type": "markdown",
   "id": "50c7847d",
   "metadata": {},
   "source": [
    "#### Top-1 and Top-5 score for only vlad embeddings in graph (4 to 6):"
   ]
  },
  {
   "cell_type": "code",
   "execution_count": 4,
   "id": "0fdac671",
   "metadata": {},
   "outputs": [
    {
     "name": "stdout",
     "output_type": "stream",
     "text": [
      "Top-1 score:  0.3854166666666667\n",
      "Top-5 score:  0.68125\n"
     ]
    }
   ],
   "source": [
    "top1_score_test2, top5_score_test2 = get_top_n_score(\"test_sets/test_set_vlad_embeddings_only_in_graph_4_to_6.txt\")\n",
    "print('Top-1 score: ', top1_score_test2)\n",
    "print('Top-5 score: ', top5_score_test2)"
   ]
  },
  {
   "cell_type": "markdown",
   "id": "c5ef0651",
   "metadata": {},
   "source": [
    "#### Top-1 and Top-5 score for vlad embeddings only (8 to 12):"
   ]
  },
  {
   "cell_type": "code",
   "execution_count": 5,
   "id": "6797a7d9",
   "metadata": {},
   "outputs": [
    {
     "name": "stdout",
     "output_type": "stream",
     "text": [
      "Top-1 score:  0.4375\n",
      "Top-5 score:  0.4375\n"
     ]
    }
   ],
   "source": [
    "top1_score_test3, top5_score_test3 = get_top_n_score(\"test_sets/test_set_vlad_embeddings_only_in_graph_8_to_12.txt\")\n",
    "print('Top-1 score: ', top1_score_test3)\n",
    "print('Top-5 score: ', top5_score_test3)"
   ]
  },
  {
   "cell_type": "markdown",
   "id": "8190653a",
   "metadata": {},
   "source": [
    "#### Top-1 and Top-5 Score for graph (all vlad embeddings, all objects): "
   ]
  },
  {
   "cell_type": "code",
   "execution_count": 6,
   "id": "9809d3fd",
   "metadata": {},
   "outputs": [
    {
     "name": "stdout",
     "output_type": "stream",
     "text": [
      "Top-1 score:  0.3854166666666667\n",
      "Top-5 score:  0.3854166666666667\n"
     ]
    }
   ],
   "source": [
    "top1_score_test4, top5_score_test4 = get_top_n_score(\"test_sets/test_set_all_objects_all_vlad_embeddings.txt\")\n",
    "print('Top-1 score: ', top1_score_test4)\n",
    "print('Top-5 score: ', top5_score_test4)                    "
   ]
  },
  {
   "cell_type": "markdown",
   "id": "470403a7",
   "metadata": {},
   "source": [
    "#### Top-1 and Top-5 Score for vlad embeddings (5 vlad embeddings for each scan)"
   ]
  },
  {
   "cell_type": "code",
   "execution_count": 7,
   "id": "431f7d4f",
   "metadata": {},
   "outputs": [
    {
     "name": "stdout",
     "output_type": "stream",
     "text": [
      "Top-1 score:  0.5896907216494846\n",
      "Top-5 score:  0.7807560137457045\n"
     ]
    }
   ],
   "source": [
    "top1_score_test5, top5_score_test5 = get_top_n_score(\"test_sets/test_set_vlad_embeddings_5_emb.txt\")\n",
    "print('Top-1 score: ', top1_score_test5)\n",
    "print('Top-5 score: ', top5_score_test5)"
   ]
  },
  {
   "cell_type": "markdown",
   "id": "77980fa3",
   "metadata": {},
   "source": [
    "#### Top-1 and Top-5 Score for vlad embeddings (up to 25 vlad embeddings for each scan)"
   ]
  },
  {
   "cell_type": "code",
   "execution_count": 8,
   "id": "99b3fabb",
   "metadata": {},
   "outputs": [
    {
     "name": "stdout",
     "output_type": "stream",
     "text": [
      "Top-1 score:  0.9183505154639175\n",
      "Top-5 score:  0.9524398625429553\n"
     ]
    }
   ],
   "source": [
    "top1_score_test6, top5_score_test6 = get_top_n_score(\"test_sets/test_set_vlad_embeddings_25_emb.txt\")\n",
    "print('Top-1 score: ', top1_score_test6)\n",
    "print('Top-5 score: ', top5_score_test6)"
   ]
  },
  {
   "cell_type": "markdown",
   "id": "bba95e0f",
   "metadata": {},
   "source": [
    "#### Top-1 and Top-5 Score for vlad embeddings (up to 50 vlad embeddings for each scan)"
   ]
  },
  {
   "cell_type": "code",
   "execution_count": 10,
   "id": "562c6c50",
   "metadata": {},
   "outputs": [
    {
     "ename": "IndexError",
     "evalue": "index 14487 is out of bounds for axis 0 with size 14487",
     "output_type": "error",
     "traceback": [
      "\u001b[0;31m---------------------------------------------------------------------------\u001b[0m",
      "\u001b[0;31mIndexError\u001b[0m                                Traceback (most recent call last)",
      "Input \u001b[0;32mIn [10]\u001b[0m, in \u001b[0;36m<cell line: 1>\u001b[0;34m()\u001b[0m\n\u001b[0;32m----> 1\u001b[0m top1_score_test7, top5_score_test7 \u001b[38;5;241m=\u001b[39m \u001b[43mget_top_n_score\u001b[49m\u001b[43m(\u001b[49m\u001b[38;5;124;43m\"\u001b[39;49m\u001b[38;5;124;43mtest_sets/test_set_vlad_embeddings_50_emb.txt\u001b[39;49m\u001b[38;5;124;43m\"\u001b[39;49m\u001b[43m)\u001b[49m\n\u001b[1;32m      2\u001b[0m \u001b[38;5;28mprint\u001b[39m(\u001b[38;5;124m'\u001b[39m\u001b[38;5;124mTop-1 score: \u001b[39m\u001b[38;5;124m'\u001b[39m, top1_score_test7)\n\u001b[1;32m      3\u001b[0m \u001b[38;5;28mprint\u001b[39m(\u001b[38;5;124m'\u001b[39m\u001b[38;5;124mTop-5 score: \u001b[39m\u001b[38;5;124m'\u001b[39m, top5_score_test7)\n",
      "File \u001b[0;32m~/tisl_localization_22s/top_n.py:38\u001b[0m, in \u001b[0;36mget_top_n_score\u001b[0;34m(embeddings_path)\u001b[0m\n\u001b[1;32m     33\u001b[0m \u001b[38;5;28;01mfor\u001b[39;00m i \u001b[38;5;129;01min\u001b[39;00m \u001b[38;5;28mrange\u001b[39m(\u001b[38;5;241m0\u001b[39m, emb\u001b[38;5;241m.\u001b[39mshape[\u001b[38;5;241m0\u001b[39m], NUM_EMB):\n\u001b[1;32m     34\u001b[0m     \u001b[38;5;66;03m# For each embedding in that scan\u001b[39;00m\n\u001b[1;32m     35\u001b[0m     \u001b[38;5;66;03m# 0, 1, 2, 3, 4, 5\u001b[39;00m\n\u001b[1;32m     36\u001b[0m     \u001b[38;5;28;01mfor\u001b[39;00m j \u001b[38;5;129;01min\u001b[39;00m \u001b[38;5;28mrange\u001b[39m(NUM_EMB):\n\u001b[1;32m     37\u001b[0m         \u001b[38;5;66;03m# Select the query embedding\u001b[39;00m\n\u001b[0;32m---> 38\u001b[0m         query \u001b[38;5;241m=\u001b[39m \u001b[43memb\u001b[49m\u001b[43m[\u001b[49m\u001b[43mi\u001b[49m\u001b[43m \u001b[49m\u001b[38;5;241;43m+\u001b[39;49m\u001b[43m \u001b[49m\u001b[43mj\u001b[49m\u001b[43m]\u001b[49m\n\u001b[1;32m     40\u001b[0m         \u001b[38;5;66;03m# Calculate distance to all database embeddings\u001b[39;00m\n\u001b[1;32m     41\u001b[0m         dist \u001b[38;5;241m=\u001b[39m np\u001b[38;5;241m.\u001b[39mlinalg\u001b[38;5;241m.\u001b[39mnorm(emb \u001b[38;5;241m-\u001b[39m query, axis\u001b[38;5;241m=\u001b[39m\u001b[38;5;241m1\u001b[39m)\n",
      "\u001b[0;31mIndexError\u001b[0m: index 14487 is out of bounds for axis 0 with size 14487"
     ]
    }
   ],
   "source": [
    "top1_score_test7, top5_score_test7 = get_top_n_score(\"test_sets/test_set_vlad_embeddings_50_emb.txt\")\n",
    "print('Top-1 score: ', top1_score_test7)\n",
    "print('Top-5 score: ', top5_score_test7)"
   ]
  },
  {
   "cell_type": "markdown",
   "id": "792f4b43",
   "metadata": {},
   "source": [
    "#### Conclusion: We showed that graph embeddings represent much higher prediction score compared to vlad embeddings (0.783 compared to 0.453 among top-n accuracy scores)"
   ]
  }
 ],
 "metadata": {
  "celltoolbar": "无",
  "kernelspec": {
   "display_name": "Python 3 (ipykernel)",
   "language": "python",
   "name": "python3"
  },
  "language_info": {
   "codemirror_mode": {
    "name": "ipython",
    "version": 3
   },
   "file_extension": ".py",
   "mimetype": "text/x-python",
   "name": "python",
   "nbconvert_exporter": "python",
   "pygments_lexer": "ipython3",
   "version": "3.9.12"
  },
  "vscode": {
   "interpreter": {
    "hash": "916dbcbb3f70747c44a77c7bcd40155683ae19c65e1c03b4aa3499c5328201f1"
   }
  }
 },
 "nbformat": 4,
 "nbformat_minor": 5
}
