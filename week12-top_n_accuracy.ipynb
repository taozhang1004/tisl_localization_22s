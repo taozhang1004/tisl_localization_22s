{
 "cells": [
  {
   "cell_type": "markdown",
   "id": "96881696",
   "metadata": {},
   "source": [
    "## Calculating top-1 and top-5 score"
   ]
  },
  {
   "cell_type": "code",
   "execution_count": 1,
   "id": "edd26989",
   "metadata": {},
   "outputs": [],
   "source": [
    "from top_n import get_top_n_score"
   ]
  },
  {
   "cell_type": "markdown",
   "id": "6c0c4c81",
   "metadata": {},
   "source": [
    "#### Top-1 and Top-5 score for graph (vlad embeddings (4 to 6) and objects (4 to 6)):"
   ]
  },
  {
   "cell_type": "code",
   "execution_count": 2,
   "id": "f91b98b0",
   "metadata": {},
   "outputs": [
    {
     "ename": "TypeError",
     "evalue": "get_top_n_score() takes 1 positional argument but 2 were given",
     "output_type": "error",
     "traceback": [
      "\u001b[0;31m---------------------------------------------------------------------------\u001b[0m",
      "\u001b[0;31mTypeError\u001b[0m                                 Traceback (most recent call last)",
      "Input \u001b[0;32mIn [2]\u001b[0m, in \u001b[0;36m<cell line: 2>\u001b[0;34m()\u001b[0m\n\u001b[1;32m      1\u001b[0m num_emb \u001b[38;5;241m=\u001b[39m \u001b[38;5;241m5\u001b[39m\n\u001b[0;32m----> 2\u001b[0m top1_score_test1, top5_score_test1 \u001b[38;5;241m=\u001b[39m \u001b[43mget_top_n_score\u001b[49m\u001b[43m(\u001b[49m\u001b[43mnum_emb\u001b[49m\u001b[43m,\u001b[49m\u001b[43m \u001b[49m\u001b[38;5;124;43m\"\u001b[39;49m\u001b[38;5;124;43mtest_sets/test_set_graph_vlad_object_embeddings.txt\u001b[39;49m\u001b[38;5;124;43m\"\u001b[39;49m\u001b[43m)\u001b[49m\n\u001b[1;32m      4\u001b[0m \u001b[38;5;28mprint\u001b[39m(\u001b[38;5;124m'\u001b[39m\u001b[38;5;124mTop-1 score: \u001b[39m\u001b[38;5;124m'\u001b[39m, top1_score_test1)\n\u001b[1;32m      5\u001b[0m \u001b[38;5;28mprint\u001b[39m(\u001b[38;5;124m'\u001b[39m\u001b[38;5;124mTop-5 score: \u001b[39m\u001b[38;5;124m'\u001b[39m, top5_score_test1)\n",
      "\u001b[0;31mTypeError\u001b[0m: get_top_n_score() takes 1 positional argument but 2 were given"
     ]
    }
   ],
   "source": [
    "num_emb = 5\n",
    "top1_score_test1, top5_score_test1 = get_top_n_score(num_emb, \"test_sets/test_set_graph_vlad_object_embeddings.txt\")\n",
    "\n",
    "print('Top-1 score: ', top1_score_test1)\n",
    "print('Top-5 score: ', top5_score_test1)"
   ]
  },
  {
   "cell_type": "markdown",
   "id": "50c7847d",
   "metadata": {},
   "source": [
    "#### Top-1 and Top-5 score for only vlad embeddings in graph (4 to 6):"
   ]
  },
  {
   "cell_type": "code",
   "execution_count": 55,
   "id": "0fdac671",
   "metadata": {},
   "outputs": [
    {
     "name": "stdout",
     "output_type": "stream",
     "text": [
      "Top-1 score:  0.3854166666666667\n",
      "Top-5 score:  0.68125\n"
     ]
    }
   ],
   "source": [
    "top1_score_test2, top5_score_test2 = get_top_n_score(num_emb, \"test_sets/test_set_vlad_embeddings_only_in_graph_4_to_6.txt\")\n",
    "print('Top-1 score: ', top1_score_test2)\n",
    "print('Top-5 score: ', top5_score_test2)"
   ]
  },
  {
   "cell_type": "markdown",
   "id": "c5ef0651",
   "metadata": {},
   "source": [
    "#### Top-1 and Top-5 score for only vlad embeddings in graph (8 to 12):"
   ]
  },
  {
   "cell_type": "code",
   "execution_count": 56,
   "id": "6797a7d9",
   "metadata": {},
   "outputs": [
    {
     "name": "stdout",
     "output_type": "stream",
     "text": [
      "Top-1 score:  0.4375\n",
      "Top-5 score:  0.4375\n"
     ]
    }
   ],
   "source": [
    "top1_score_test3, top5_score_test3 = get_top_n_score(num_emb, \"test_sets/test_set_vlad_embeddings_only_in_graph_8_to_12.txt\")\n",
    "print('Top-1 score: ', top1_score_test3)\n",
    "print('Top-5 score: ', top5_score_test3)"
   ]
  },
  {
   "cell_type": "markdown",
   "id": "6180cfc3",
   "metadata": {},
   "source": [
    "#### Top-1 and Top-5 score for only object embeddings in graph (4 to 6):"
   ]
  },
  {
   "cell_type": "code",
   "execution_count": 57,
   "id": "5f7c9431",
   "metadata": {},
   "outputs": [
    {
     "name": "stdout",
     "output_type": "stream",
     "text": [
      "Top-1 score:  0.3770833333333333\n",
      "Top-5 score:  0.68125\n"
     ]
    }
   ],
   "source": [
    "top1_score_test4, top5_score_test4 = get_top_n_score(num_emb, \"test_sets/test_set_objects_only_in_graph_4_to_6.txt\")\n",
    "print('Top-1 score: ', top1_score_test4)\n",
    "print('Top-5 score: ', top5_score_test4)"
   ]
  },
  {
   "cell_type": "markdown",
   "id": "10628a69",
   "metadata": {},
   "source": [
    "#### Top-1 and Top-5 score for only object embeddings in graph (8 to 12):"
   ]
  },
  {
   "cell_type": "code",
   "execution_count": 58,
   "id": "133c76b2",
   "metadata": {},
   "outputs": [
    {
     "name": "stdout",
     "output_type": "stream",
     "text": [
      "Top-1 score:  0.575\n",
      "Top-5 score:  0.7645833333333333\n"
     ]
    }
   ],
   "source": [
    "top1_score_test5, top5_score_test5 = get_top_n_score(num_emb, \"test_sets/test_set_objects_only_in_graph_8_to_12.txt\")\n",
    "print('Top-1 score: ', top1_score_test5)\n",
    "print('Top-5 score: ', top5_score_test5)"
   ]
  },
  {
   "cell_type": "markdown",
   "id": "8190653a",
   "metadata": {},
   "source": [
    "#### Top-1 and Top-5 Score for graph (all vlad embeddings, all objects, from 4 to 6): "
   ]
  },
  {
   "cell_type": "code",
   "execution_count": 59,
   "id": "c7bee494",
   "metadata": {},
   "outputs": [
    {
     "name": "stdout",
     "output_type": "stream",
     "text": [
      "Top-1 score:  0.5\n",
      "Top-5 score:  0.5\n"
     ]
    }
   ],
   "source": [
    "top1_score_test6, top5_score_test6 = get_top_n_score(num_emb, \"test_sets/test_set_all_objects_all_vlad_embeddings_4_to_6.txt\")\n",
    "print('Top-1 score: ', top1_score_test6)\n",
    "print('Top-5 score: ', top5_score_test6)                    "
   ]
  },
  {
   "cell_type": "markdown",
   "id": "c902f82c",
   "metadata": {},
   "source": [
    "#### Top-1 and Top-5 Score for graph (all vlad embeddings, all objects, from 8 to 12): "
   ]
  },
  {
   "cell_type": "code",
   "execution_count": 60,
   "id": "c0cd08e5",
   "metadata": {},
   "outputs": [
    {
     "name": "stdout",
     "output_type": "stream",
     "text": [
      "Top-1 score:  0.5395833333333333\n",
      "Top-5 score:  0.7791666666666667\n"
     ]
    }
   ],
   "source": [
    "top1_score_test7, top5_score_test7 = get_top_n_score(num_emb, \"test_sets/test_set_all_objects_all_vlad_embeddings_8_to_12.txt\")\n",
    "print('Top-1 score: ', top1_score_test7)\n",
    "print('Top-5 score: ', top5_score_test7)"
   ]
  },
  {
   "cell_type": "markdown",
   "id": "e728364f",
   "metadata": {},
   "source": [
    "#### Top-1 and Top-5 Score for graph (all vlad embeddings): "
   ]
  },
  {
   "cell_type": "code",
   "execution_count": 61,
   "id": "086f27b4",
   "metadata": {},
   "outputs": [
    {
     "name": "stdout",
     "output_type": "stream",
     "text": [
      "Top-1 score:  0.3020833333333333\n",
      "Top-5 score:  0.3020833333333333\n"
     ]
    }
   ],
   "source": [
    "top1_score_test8, top5_score_test8 = get_top_n_score(num_emb, \"test_sets/test_set_all_vlad_embeddings_in_graph.txt\")\n",
    "print('Top-1 score: ', top1_score_test8)\n",
    "print('Top-5 score: ', top5_score_test8)"
   ]
  },
  {
   "cell_type": "markdown",
   "id": "8c419ebf",
   "metadata": {},
   "source": [
    "#### Top-1 and Top-5 Score for graph (all object embeddings): "
   ]
  },
  {
   "cell_type": "code",
   "execution_count": 62,
   "id": "4fe8f6b3",
   "metadata": {},
   "outputs": [
    {
     "name": "stdout",
     "output_type": "stream",
     "text": [
      "Top-1 score:  0.3020833333333333\n",
      "Top-5 score:  0.3020833333333333\n"
     ]
    }
   ],
   "source": [
    "top1_score_test9, top5_score_test9 = get_top_n_score(num_emb, \"test_sets/test_set_all_object_embeddings_in_graph.txt\")\n",
    "print('Top-1 score: ', top1_score_test9)\n",
    "print('Top-5 score: ', top5_score_test9)"
   ]
  },
  {
   "cell_type": "markdown",
   "id": "ea9702e7",
   "metadata": {},
   "source": [
    "#### Top-1 and Top-5 Score for graph (all vlad and object embeddings): "
   ]
  },
  {
   "cell_type": "code",
   "execution_count": 63,
   "id": "e620ae42",
   "metadata": {},
   "outputs": [
    {
     "name": "stdout",
     "output_type": "stream",
     "text": [
      "Top-1 score:  0.53125\n",
      "Top-5 score:  0.53125\n"
     ]
    }
   ],
   "source": [
    "top1_score_test10, top5_score_test10 = get_top_n_score(num_emb, \"test_sets/test_set_all_vlad_embeddings_and_objects_in_graph.txt\")\n",
    "print('Top-1 score: ', top1_score_test10)\n",
    "print('Top-5 score: ', top5_score_test10)"
   ]
  },
  {
   "cell_type": "markdown",
   "id": "c11c7965",
   "metadata": {},
   "source": [
    "#### Top-1 and Top-5 Score for Vlad embeddings (5 vlad embedding for each scan)"
   ]
  },
  {
   "cell_type": "code",
   "execution_count": 2,
   "id": "5af11202",
   "metadata": {},
   "outputs": [
    {
     "ename": "TypeError",
     "evalue": "'numpy.float64' object cannot be interpreted as an integer",
     "output_type": "error",
     "traceback": [
      "\u001b[0;31m---------------------------------------------------------------------------\u001b[0m",
      "\u001b[0;31mTypeError\u001b[0m                                 Traceback (most recent call last)",
      "Input \u001b[0;32mIn [2]\u001b[0m, in \u001b[0;36m<cell line: 2>\u001b[0;34m()\u001b[0m\n\u001b[1;32m      1\u001b[0m num_emb \u001b[38;5;241m=\u001b[39m \u001b[38;5;241m5\u001b[39m\n\u001b[0;32m----> 2\u001b[0m top1_score_test11, top5_score_test11 \u001b[38;5;241m=\u001b[39m \u001b[43mget_top_n_score\u001b[49m\u001b[43m(\u001b[49m\u001b[38;5;124;43m\"\u001b[39;49m\u001b[38;5;124;43mtest_sets/test_set_vlad_embeddings_5_emb.txt\u001b[39;49m\u001b[38;5;124;43m\"\u001b[39;49m\u001b[43m)\u001b[49m\n\u001b[1;32m      3\u001b[0m \u001b[38;5;28mprint\u001b[39m(\u001b[38;5;124m'\u001b[39m\u001b[38;5;124mTop-1 score: \u001b[39m\u001b[38;5;124m'\u001b[39m, top1_score_test11)\n\u001b[1;32m      4\u001b[0m \u001b[38;5;28mprint\u001b[39m(\u001b[38;5;124m'\u001b[39m\u001b[38;5;124mTop-5 score: \u001b[39m\u001b[38;5;124m'\u001b[39m, top5_score_test11)\n",
      "File \u001b[0;32m~/Desktop/tao/tisl/tisl_localization_22s/top_n.py:36\u001b[0m, in \u001b[0;36mget_top_n_score\u001b[0;34m(embeddings_path)\u001b[0m\n\u001b[1;32m     32\u001b[0m i \u001b[38;5;241m=\u001b[39m \u001b[38;5;241m0\u001b[39m\n\u001b[1;32m     33\u001b[0m \u001b[38;5;28;01mfor\u001b[39;00m i \u001b[38;5;129;01min\u001b[39;00m \u001b[38;5;28mrange\u001b[39m(\u001b[38;5;241m0\u001b[39m, emb\u001b[38;5;241m.\u001b[39mshape[\u001b[38;5;241m0\u001b[39m], \u001b[38;5;28mint\u001b[39m(emb_size[i])):\n\u001b[1;32m     34\u001b[0m     \u001b[38;5;66;03m# For each embedding in that scan\u001b[39;00m\n\u001b[1;32m     35\u001b[0m     \u001b[38;5;66;03m# 0, 1, 2, 3, 4, 5\u001b[39;00m\n\u001b[0;32m---> 36\u001b[0m     \u001b[38;5;28;01mfor\u001b[39;00m j \u001b[38;5;129;01min\u001b[39;00m \u001b[38;5;28;43mrange\u001b[39;49m\u001b[43m(\u001b[49m\u001b[43memb_size\u001b[49m\u001b[43m[\u001b[49m\u001b[43mi\u001b[49m\u001b[43m]\u001b[49m\u001b[43m)\u001b[49m:\n\u001b[1;32m     37\u001b[0m         \u001b[38;5;66;03m# Select the query embedding\u001b[39;00m\n\u001b[1;32m     38\u001b[0m         query \u001b[38;5;241m=\u001b[39m emb[i \u001b[38;5;241m+\u001b[39m j]\n\u001b[1;32m     40\u001b[0m         \u001b[38;5;66;03m# Calculate distance to all database embeddings\u001b[39;00m\n",
      "\u001b[0;31mTypeError\u001b[0m: 'numpy.float64' object cannot be interpreted as an integer"
     ]
    }
   ],
   "source": [
    "num_emb = 5\n",
    "top1_score_test11, top5_score_test11 = get_top_n_score(\"test_sets/test_set_vlad_embeddings_5_emb.txt\")\n",
    "print('Top-1 score: ', top1_score_test11)\n",
    "print('Top-5 score: ', top5_score_test11)"
   ]
  },
  {
   "cell_type": "markdown",
   "id": "6210c740",
   "metadata": {},
   "source": [
    "#### Top-1 and Top-5 Score for Vlad embeddings (10 vlad embedding for each scan)"
   ]
  },
  {
   "cell_type": "code",
   "execution_count": 65,
   "id": "daf57336",
   "metadata": {},
   "outputs": [
    {
     "name": "stdout",
     "output_type": "stream",
     "text": [
      "Top-1 score:  0.3104166666666667\n",
      "Top-5 score:  0.5552083333333333\n"
     ]
    }
   ],
   "source": [
    "num_emb = 10\n",
    "top1_score_test12, top5_score_test12 = get_top_n_score(num_emb, \"test_sets/test_set_vlad_embeddings_10_emb.txt\")\n",
    "print('Top-1 score: ', top1_score_test12)\n",
    "print('Top-5 score: ', top5_score_test12)"
   ]
  },
  {
   "cell_type": "markdown",
   "id": "26f8539f",
   "metadata": {},
   "source": [
    "#### Top-1 and Top-5 Score for Vlad embeddings (15 vlad embedding for each scan)"
   ]
  },
  {
   "cell_type": "code",
   "execution_count": 66,
   "id": "76e3937c",
   "metadata": {},
   "outputs": [
    {
     "name": "stdout",
     "output_type": "stream",
     "text": [
      "Top-1 score:  0.30625\n",
      "Top-5 score:  0.5430555555555555\n"
     ]
    }
   ],
   "source": [
    "num_emb = 15\n",
    "top1_score_test13, top5_score_test13 = get_top_n_score(num_emb, \"test_sets/test_set_vlad_embeddings_15_emb.txt\")\n",
    "print('Top-1 score: ', top1_score_test13)\n",
    "print('Top-5 score: ', top5_score_test13)"
   ]
  },
  {
   "cell_type": "markdown",
   "id": "77f0554c",
   "metadata": {},
   "source": [
    "#### Top-1 and Top-5 Score for Vlad embeddings (20 vlad embedding for each scan)"
   ]
  },
  {
   "cell_type": "code",
   "execution_count": 67,
   "id": "ec0af9d0",
   "metadata": {},
   "outputs": [
    {
     "name": "stdout",
     "output_type": "stream",
     "text": [
      "Top-1 score:  0.32864583333333336\n",
      "Top-5 score:  0.5697916666666667\n"
     ]
    }
   ],
   "source": [
    "num_emb = 20\n",
    "top1_score_test14, top5_score_test14 = get_top_n_score(num_emb,\"test_sets/test_set_vlad_embeddings_20_emb.txt\")\n",
    "print('Top-1 score: ', top1_score_test14)\n",
    "print('Top-5 score: ', top5_score_test14)"
   ]
  },
  {
   "cell_type": "markdown",
   "id": "a24ae912",
   "metadata": {},
   "source": [
    "#### Top-1 and Top-5 Score for Vlad embeddings (25 vlad embedding for each scan)"
   ]
  },
  {
   "cell_type": "code",
   "execution_count": 68,
   "id": "12aab24e",
   "metadata": {},
   "outputs": [
    {
     "name": "stdout",
     "output_type": "stream",
     "text": [
      "Top-1 score:  0.34791666666666665\n",
      "Top-5 score:  0.5716666666666667\n"
     ]
    }
   ],
   "source": [
    "num_emb = 25\n",
    "top1_score_test15, top5_score_test15 = get_top_n_score(num_emb, \"test_sets/test_set_vlad_embeddings_25_emb.txt\")\n",
    "print('Top-1 score: ', top1_score_test15)\n",
    "print('Top-5 score: ', top5_score_test15)"
   ]
  },
  {
   "cell_type": "markdown",
   "id": "11dc1421",
   "metadata": {},
   "source": [
    "#### Top-1 and Top-5 Score for Vlad embeddings (29 vlad embedding for each scan)"
   ]
  },
  {
   "cell_type": "code",
   "execution_count": 69,
   "id": "8224ddd7",
   "metadata": {},
   "outputs": [
    {
     "name": "stdout",
     "output_type": "stream",
     "text": [
      "Top-1 score:  0.3333333333333333\n",
      "Top-5 score:  0.5747126436781609\n"
     ]
    }
   ],
   "source": [
    "num_emb = 29\n",
    "top1_score_test16, top5_score_test16 = get_top_n_score(num_emb, \"test_sets/test_set_vlad_embeddings_29_emb.txt\")\n",
    "print('Top-1 score: ', top1_score_test16)\n",
    "print('Top-5 score: ', top5_score_test16)"
   ]
  },
  {
   "cell_type": "code",
   "execution_count": null,
   "id": "43a59cf0",
   "metadata": {},
   "outputs": [],
   "source": [
    "#### Top-1 and Top-5 Score for Vlad embeddings (30 vlad embedding for each scan)"
   ]
  },
  {
   "cell_type": "code",
   "execution_count": 70,
   "id": "373b206f",
   "metadata": {},
   "outputs": [
    {
     "name": "stdout",
     "output_type": "stream",
     "text": [
      "Top-1 score:  0.3576388888888889\n",
      "Top-5 score:  0.5934027777777777\n"
     ]
    }
   ],
   "source": [
    "num_emb = 30\n",
    "top1_score_test17, top5_score_test17 = get_top_n_score(num_emb, \"test_sets/test_set_vlad_embeddings_30_emb.txt\")\n",
    "print('Top-1 score: ', top1_score_test17)\n",
    "print('Top-5 score: ', top5_score_test17)"
   ]
  },
  {
   "cell_type": "markdown",
   "id": "4b90453c",
   "metadata": {},
   "source": [
    "#### Top-1 and Top-5 Score for Vlad embeddings (35 vlad embedding for each scan)"
   ]
  },
  {
   "cell_type": "code",
   "execution_count": 71,
   "id": "a0224458",
   "metadata": {},
   "outputs": [
    {
     "name": "stdout",
     "output_type": "stream",
     "text": [
      "Top-1 score:  0.35535714285714287\n",
      "Top-5 score:  0.6056547619047619\n"
     ]
    }
   ],
   "source": [
    "num_emb = 35\n",
    "top1_score_test18, top5_score_test18 = get_top_n_score(num_emb, \"test_sets/test_set_vlad_embeddings_35_emb.txt\")\n",
    "print('Top-1 score: ', top1_score_test18)\n",
    "print('Top-5 score: ', top5_score_test18)"
   ]
  },
  {
   "cell_type": "markdown",
   "id": "3a5d00fb",
   "metadata": {},
   "source": [
    "#### Top-1 and Top-5 Score for Vlad embeddings (40 vlad embedding for each scan)"
   ]
  },
  {
   "cell_type": "code",
   "execution_count": 73,
   "id": "e08168b2",
   "metadata": {},
   "outputs": [
    {
     "name": "stdout",
     "output_type": "stream",
     "text": [
      "Top-1 score:  0.37005208333333334\n",
      "Top-5 score:  0.6200520833333333\n"
     ]
    }
   ],
   "source": [
    "num_emb = 40\n",
    "top1_score_test19, top5_score_test19 = get_top_n_score(num_emb, \"test_sets/test_set_vlad_embeddings_40_emb.txt\")\n",
    "print('Top-1 score: ', top1_score_test19)\n",
    "print('Top-5 score: ', top5_score_test19)"
   ]
  },
  {
   "cell_type": "markdown",
   "id": "94fed326",
   "metadata": {},
   "source": [
    "#### Top-1 and Top-5 Score for Vlad embeddings (45 vlad embedding for each scan)"
   ]
  },
  {
   "cell_type": "code",
   "execution_count": 74,
   "id": "96a10144",
   "metadata": {},
   "outputs": [
    {
     "name": "stdout",
     "output_type": "stream",
     "text": [
      "Top-1 score:  0.3761574074074074\n",
      "Top-5 score:  0.6175925925925926\n"
     ]
    }
   ],
   "source": [
    "num_emb = 45\n",
    "top1_score_test20, top5_score_test20 = get_top_n_score(num_emb, \"test_sets/test_set_vlad_embeddings_45_emb.txt\")\n",
    "print('Top-1 score: ', top1_score_test20)\n",
    "print('Top-5 score: ', top5_score_test20)"
   ]
  },
  {
   "cell_type": "markdown",
   "id": "dd7f310f",
   "metadata": {},
   "source": [
    "#### Top-1 and Top-5 Score for Vlad embeddings (45 vlad embedding for each scan)"
   ]
  },
  {
   "cell_type": "code",
   "execution_count": 75,
   "id": "0c5fad95",
   "metadata": {},
   "outputs": [
    {
     "name": "stdout",
     "output_type": "stream",
     "text": [
      "Top-1 score:  0.3852083333333333\n",
      "Top-5 score:  0.625625\n"
     ]
    }
   ],
   "source": [
    "num_emb = 50\n",
    "top1_score_test20, top5_score_test20 = get_top_n_score(num_emb, \"test_sets/test_set_vlad_embeddings_50_emb.txt\")\n",
    "print('Top-1 score: ', top1_score_test20)\n",
    "print('Top-5 score: ', top5_score_test20)"
   ]
  },
  {
   "cell_type": "markdown",
   "id": "792f4b43",
   "metadata": {},
   "source": [
    "#### Conclusion: We showed that graph embeddings represent much higher prediction score compared to vlad embeddings "
   ]
  }
 ],
 "metadata": {
  "celltoolbar": "无",
  "kernelspec": {
   "display_name": "Python 3 (ipykernel)",
   "language": "python",
   "name": "python3"
  },
  "language_info": {
   "codemirror_mode": {
    "name": "ipython",
    "version": 3
   },
   "file_extension": ".py",
   "mimetype": "text/x-python",
   "name": "python",
   "nbconvert_exporter": "python",
   "pygments_lexer": "ipython3",
   "version": "3.8.13"
  },
  "vscode": {
   "interpreter": {
    "hash": "916dbcbb3f70747c44a77c7bcd40155683ae19c65e1c03b4aa3499c5328201f1"
   }
  }
 },
 "nbformat": 4,
 "nbformat_minor": 5
}
